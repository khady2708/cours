{
 "cells": [
  {
   "cell_type": "markdown",
   "id": "cba79059-aac7-4d43-984d-c6dcdaa9c5f5",
   "metadata": {},
   "source": [
    "# Data structures in Python"
   ]
  },
  {
   "cell_type": "markdown",
   "id": "a77354a9-c945-4c88-9384-e93bd78bdb04",
   "metadata": {},
   "source": [
    "- **List**\n",
    "    - ' Tableau ' modifiable \n",
    "- **Tuple**\n",
    "    - ' Tableau ' non modifiable\n",
    "- **Set**\n",
    "    - Structure de données qui n'accepte pas les doublons !\n",
    "- **dict**\n",
    "    - Structure de données ' key : value '\n",
    "- **class (object)**\n",
    "    - Création d'une structure de données personnalisée "
   ]
  },
  {
   "cell_type": "markdown",
   "id": "73325e8c-bd20-4340-94f7-d8122cd85a74",
   "metadata": {
    "tags": []
   },
   "source": [
    "## List"
   ]
  },
  {
   "cell_type": "markdown",
   "id": "4ed677e2-becb-4cb5-9b28-861c4f72630d",
   "metadata": {},
   "source": [
    "### Création (instanciation)"
   ]
  },
  {
   "cell_type": "code",
   "execution_count": 117,
   "id": "69720b4f-5860-434a-ba28-2f89ff56691b",
   "metadata": {},
   "outputs": [],
   "source": [
    "arr = []\n",
    "arr = [1, 2, 3]\n",
    "arr = [1, 'a', 'b', True] # La liste accepte n'importe quel type de données"
   ]
  },
  {
   "cell_type": "code",
   "execution_count": 118,
   "id": "aa3d4361-2d36-4d14-a892-b6def9b62409",
   "metadata": {},
   "outputs": [
    {
     "data": {
      "text/plain": [
       "[0, 1, 2, 3, 4, 5, 6, 7, 8, 9]"
      ]
     },
     "execution_count": 118,
     "metadata": {},
     "output_type": "execute_result"
    }
   ],
   "source": [
    "arr = list(range(10)) # Création rapide d'une liste en utilisant range\n",
    "arr           "
   ]
  },
  {
   "cell_type": "code",
   "execution_count": 119,
   "id": "bfd8c18c-bf1f-43fd-8375-ac4c073a63bf",
   "metadata": {},
   "outputs": [
    {
     "data": {
      "text/plain": [
       "['a', 'b', 'c', 'd', 'e', 'f', 'g', 'h', 'i']"
      ]
     },
     "execution_count": 119,
     "metadata": {},
     "output_type": "execute_result"
    }
   ],
   "source": [
    "# Exemple avec des lettres\n",
    "arr = list('abcdefghi') \n",
    "arr"
   ]
  },
  {
   "cell_type": "markdown",
   "id": "a7a582a0-0af0-4892-b47d-467bf4feda41",
   "metadata": {
    "tags": []
   },
   "source": [
    "### Slicing"
   ]
  },
  {
   "cell_type": "markdown",
   "id": "53c0cdfa-9d61-4fa0-817e-8516b0dfd6fb",
   "metadata": {},
   "source": [
    "Slice : **trancher** les données pour n'en garder qu'une partie"
   ]
  },
  {
   "cell_type": "markdown",
   "id": "6cc3b412-d564-4345-a046-643992c29ed7",
   "metadata": {},
   "source": [
    "#### Récuperer les premiers éléments"
   ]
  },
  {
   "cell_type": "code",
   "execution_count": 120,
   "id": "15b26a24-bab3-4f7b-b025-646bea67c8df",
   "metadata": {
    "tags": []
   },
   "outputs": [
    {
     "data": {
      "text/plain": [
       "['a', 'b', 'c', 'd', 'e']"
      ]
     },
     "execution_count": 120,
     "metadata": {},
     "output_type": "execute_result"
    }
   ],
   "source": [
    "# 5 premiers éléùenst de la liste\n",
    "# On récupère de l'élément 0 (inclus) jusqu'à l'élément 5 exclus\n",
    "arr = list('abcdefghijklmpnop')\n",
    "arr[0:5] "
   ]
  },
  {
   "cell_type": "code",
   "execution_count": 11,
   "id": "4c8c56e6-a61f-42a6-8617-1d8db02748a5",
   "metadata": {},
   "outputs": [
    {
     "data": {
      "text/plain": [
       "['a', 'b', 'c', 'd', 'e']"
      ]
     },
     "execution_count": 11,
     "metadata": {},
     "output_type": "execute_result"
    }
   ],
   "source": [
    "# Equivalent à la notation précedente\n",
    "# Lorsque l'on ne met pas le premier élément c'est implicitement équivalent à mettre 0\n",
    "arr[:5] "
   ]
  },
  {
   "cell_type": "code",
   "execution_count": 121,
   "id": "a97370ef-7499-4092-86df-9413227f4593",
   "metadata": {},
   "outputs": [
    {
     "data": {
      "text/plain": [
       "5"
      ]
     },
     "execution_count": 121,
     "metadata": {},
     "output_type": "execute_result"
    }
   ],
   "source": [
    "# Nombre d'élénemts dans la liste\n",
    "# Il y en a bien 5 (indexes de 0 à 4 ---> 5 éléments)\n",
    "chunk = arr[:5]\n",
    "len(chunk)"
   ]
  },
  {
   "cell_type": "markdown",
   "id": "4a8836c6-e4c1-4685-8559-ab0fe99dfbce",
   "metadata": {},
   "source": [
    "#### Récuper les derniers éléments"
   ]
  },
  {
   "cell_type": "code",
   "execution_count": 122,
   "id": "84fb33d5-ad70-42ee-8b25-1d9a5eed29b2",
   "metadata": {},
   "outputs": [
    {
     "name": "stdout",
     "output_type": "stream",
     "text": [
      "dernier : p\n",
      "Avant dernier : o\n",
      "3 derniers éléments : ['n', 'o', 'p']\n"
     ]
    }
   ],
   "source": [
    "arr = list('abcdefghijklmpnop')\n",
    "\n",
    "# Le dernier élément est indexé par -1 dans une liste\n",
    "print('dernier :', arr[-1]) \n",
    "\n",
    "# L'avant dernier élément est indexé par -2 dans une liste\n",
    "print('Avant dernier :', arr[-2]) \n",
    "\n",
    "# On récuoère les 3 derniers éléments\n",
    "print('3 derniers éléments :', arr[-3:]) "
   ]
  },
  {
   "cell_type": "markdown",
   "id": "a53e2e58-627f-465d-aad5-dbd20508796d",
   "metadata": {},
   "source": [
    "#### Slices avec pas"
   ]
  },
  {
   "cell_type": "code",
   "execution_count": 35,
   "id": "662333ac-52ae-43a9-bcb7-7492d1ea394f",
   "metadata": {},
   "outputs": [
    {
     "data": {
      "text/plain": [
       "['a', 'b', 'c', 'd', 'e', 'f', 'g', 'p', 'n', 'o', 'p']"
      ]
     },
     "execution_count": 35,
     "metadata": {},
     "output_type": "execute_result"
    }
   ],
   "source": [
    "arr = list('abcdefgpnop')\n",
    "\n",
    "# Cette notation se lit : \n",
    "# \"Elements de la liste arr à partir du premier élément (inclus) \n",
    "# jusqu'au dernier élément (exclus)\n",
    "# Par pas de 1 élément\n",
    "arr[0:len(arr):1]  \n",
    "\n",
    "# Peut se résumer implicitement ainsi : \n",
    "arr[::]  "
   ]
  },
  {
   "cell_type": "code",
   "execution_count": 36,
   "id": "f72d0c7f-e08f-4649-8c8f-667cd96ca907",
   "metadata": {},
   "outputs": [
    {
     "data": {
      "text/plain": [
       "['d', 'e', 'f', 'g', 'p', 'n', 'o', 'p']"
      ]
     },
     "execution_count": 36,
     "metadata": {},
     "output_type": "execute_result"
    }
   ],
   "source": [
    "# Slice : à partir du 3ème élément, jusqu'au dernier, par pas de 1\n",
    "arr[3::]  "
   ]
  },
  {
   "cell_type": "code",
   "execution_count": 37,
   "id": "d97e8e7d-b0ff-49e5-90a7-0f8aaab6d87b",
   "metadata": {},
   "outputs": [
    {
     "data": {
      "text/plain": [
       "['a', 'b', 'c', 'd', 'e', 'f', 'g', 'p', 'n']"
      ]
     },
     "execution_count": 37,
     "metadata": {},
     "output_type": "execute_result"
    }
   ],
   "source": [
    "# Slice : à partir du 0ème élement, jusqu'à l'avant dernier (exclus), par pas de 1\n",
    "arr[:-2:1]"
   ]
  },
  {
   "cell_type": "code",
   "execution_count": 38,
   "id": "85352f1a-089b-4bca-b44c-82069dac0ada",
   "metadata": {},
   "outputs": [
    {
     "data": {
      "text/plain": [
       "['a', 'c', 'e', 'g', 'n', 'p']"
      ]
     },
     "execution_count": 38,
     "metadata": {},
     "output_type": "execute_result"
    }
   ],
   "source": [
    "# Slice : un élément sur 2 (pas de 2) \n",
    "arr[::2]"
   ]
  },
  {
   "cell_type": "code",
   "execution_count": 39,
   "id": "f57a600e-52ba-4afa-a8e7-06a5564380ce",
   "metadata": {},
   "outputs": [
    {
     "data": {
      "text/plain": [
       "['p', 'o', 'n', 'p', 'g', 'f', 'e', 'd', 'c', 'b', 'a']"
      ]
     },
     "execution_count": 39,
     "metadata": {},
     "output_type": "execute_result"
    }
   ],
   "source": [
    "# Slice : on avance par pas de -1\n",
    "# On obtient la liste retournée\n",
    "arr[::-1]"
   ]
  },
  {
   "cell_type": "code",
   "execution_count": 123,
   "id": "7e962654-0149-496b-ae17-8bb7ffe07737",
   "metadata": {},
   "outputs": [
    {
     "data": {
      "text/plain": [
       "['p', 'n', 'm', 'k', 'i', 'g', 'e', 'c', 'a']"
      ]
     },
     "execution_count": 123,
     "metadata": {},
     "output_type": "execute_result"
    }
   ],
   "source": [
    "# Slice : on avance par pas de -2\n",
    "# On obtient un élément sur 2 de la liste retournée\n",
    "arr[::-2]"
   ]
  },
  {
   "cell_type": "markdown",
   "id": "9b971d94-98b9-4d63-9c54-915f212806c1",
   "metadata": {},
   "source": [
    "### Quelques méthodes sur les listes"
   ]
  },
  {
   "cell_type": "markdown",
   "id": "fc7cbba6-e881-4adf-bb56-0cf9e88f5107",
   "metadata": {},
   "source": [
    "#### Compter les éléments"
   ]
  },
  {
   "cell_type": "code",
   "execution_count": 124,
   "id": "b0460115-0ed2-4b98-b0bd-b9f3b0d5682a",
   "metadata": {},
   "outputs": [
    {
     "data": {
      "text/plain": [
       "6"
      ]
     },
     "execution_count": 124,
     "metadata": {},
     "output_type": "execute_result"
    }
   ],
   "source": [
    "arr = list('abcdvkjsraaaalgkhngbratefghijklmpnop')\n",
    "arr.count('a')"
   ]
  },
  {
   "cell_type": "code",
   "execution_count": 132,
   "id": "1cc0f81d-82ce-4a70-b0b1-487721789a20",
   "metadata": {},
   "outputs": [
    {
     "name": "stdout",
     "output_type": "stream",
     "text": [
      "['p', 'v', 'd', 'a']\n"
     ]
    }
   ],
   "source": [
    "# On peut également renverser la liste avec la méthode reverse\n",
    "# La méthode *modifie* les données 'en place'\n",
    "arr = list('advp')\n",
    "arr.reverse()\n",
    "print(arr)"
   ]
  },
  {
   "cell_type": "code",
   "execution_count": 133,
   "id": "c98b51e4-07c6-4db5-9d5d-1dd1212d77b6",
   "metadata": {},
   "outputs": [
    {
     "data": {
      "text/plain": [
       "['p', 'v', 'd', 'a', 'aert']"
      ]
     },
     "execution_count": 133,
     "metadata": {},
     "output_type": "execute_result"
    }
   ],
   "source": [
    "# On rajoute un élément à la suite de la liste\n",
    "arr.append('aert')\n",
    "arr"
   ]
  },
  {
   "cell_type": "code",
   "execution_count": 134,
   "id": "2a3bae64-0cb8-4c4c-a6a8-2f2c3201f7d9",
   "metadata": {},
   "outputs": [
    {
     "data": {
      "text/plain": [
       "['p', 'v', 'd', 'a', 'aert', 'plouf', 'test']"
      ]
     },
     "execution_count": 134,
     "metadata": {},
     "output_type": "execute_result"
    }
   ],
   "source": [
    "# On fusionne deux listes\n",
    "arr.extend(['plouf', 'test'])\n",
    "arr"
   ]
  },
  {
   "cell_type": "code",
   "execution_count": 135,
   "id": "caf3a02d-b9d9-4ccf-b5ab-431c0cee5252",
   "metadata": {},
   "outputs": [
    {
     "data": {
      "text/plain": [
       "['p', 'v', 'd', 'a', 'aert', 'plouf', 'test', ['appended1', 'appended2']]"
      ]
     },
     "execution_count": 135,
     "metadata": {},
     "output_type": "execute_result"
    }
   ],
   "source": [
    "# ATTENTION\n",
    "# Si on fait un *append* d'une liste sur une autre, alors on ajoute la seconde liste\n",
    "# Comme UN élement de la liste\n",
    "# Ici arr2 est ajoutée à la suite de arr. \n",
    "\n",
    "arr2 = ['appended1', 'appended2']\n",
    "arr.append( arr2 )\n",
    "arr"
   ]
  },
  {
   "cell_type": "code",
   "execution_count": 136,
   "id": "5166f7fa-808e-46f9-bcf0-44587e868478",
   "metadata": {},
   "outputs": [
    {
     "name": "stdout",
     "output_type": "stream",
     "text": [
      "last : ['appended1', 'appended2']\n",
      "Liste (sans dernier élément)  ['p', 'v', 'd', 'a', 'aert', 'plouf', 'test']\n"
     ]
    }
   ],
   "source": [
    "# Arrache le denier élément de la liste, et le renvoie\n",
    "last_element = arr.pop()\n",
    "print('last :', last_element)\n",
    "print('Liste (sans dernier élément) ', arr)"
   ]
  },
  {
   "cell_type": "code",
   "execution_count": 137,
   "id": "cd4b7521-18f7-4ec0-99cc-8ac8cd04d01a",
   "metadata": {},
   "outputs": [
    {
     "data": {
      "text/plain": [
       "['p', 'v', 'd', 'aert', 'plouf', 'test']"
      ]
     },
     "execution_count": 137,
     "metadata": {},
     "output_type": "execute_result"
    }
   ],
   "source": [
    "# Remove la première occurence de l'élément dans la liste\n",
    "arr.remove('a')\n",
    "arr"
   ]
  },
  {
   "cell_type": "code",
   "execution_count": 138,
   "id": "f4aa919a-75f7-43cd-a907-e3b9cfb7f482",
   "metadata": {},
   "outputs": [
    {
     "data": {
      "text/plain": [
       "2"
      ]
     },
     "execution_count": 138,
     "metadata": {},
     "output_type": "execute_result"
    }
   ],
   "source": [
    "# Donne l'index de la première occurence de l'élément dans la liste\n",
    "arr.index('d')"
   ]
  },
  {
   "cell_type": "markdown",
   "id": "471e60d2-279d-48db-a3e0-90f1f0ea0e50",
   "metadata": {},
   "source": [
    "## Tuple"
   ]
  },
  {
   "cell_type": "code",
   "execution_count": 140,
   "id": "acd15c47-b13d-41a3-854b-7dab787f4992",
   "metadata": {},
   "outputs": [
    {
     "data": {
      "text/plain": [
       "(5, 8, 11, 14, 17, 20)"
      ]
     },
     "execution_count": 140,
     "metadata": {},
     "output_type": "execute_result"
    }
   ],
   "source": [
    "# Instanciation d'un tuple\n",
    "arr = tuple(range(5, 21, 3))\n",
    "arr"
   ]
  },
  {
   "cell_type": "code",
   "execution_count": 141,
   "id": "b7273cfb-b1e3-41a7-bb31-1039e4a5be89",
   "metadata": {},
   "outputs": [
    {
     "ename": "TypeError",
     "evalue": "'tuple' object does not support item assignment",
     "output_type": "error",
     "traceback": [
      "\u001b[0;31m---------------------------------------------------------------------------\u001b[0m",
      "\u001b[0;31mTypeError\u001b[0m                                 Traceback (most recent call last)",
      "Cell \u001b[0;32mIn[141], line 3\u001b[0m\n\u001b[1;32m      1\u001b[0m \u001b[38;5;66;03m# Le tuple est non modifiable\u001b[39;00m\n\u001b[1;32m      2\u001b[0m \u001b[38;5;66;03m# On obtient une erreur si on essaie\u001b[39;00m\n\u001b[0;32m----> 3\u001b[0m arr[\u001b[38;5;241m0\u001b[39m] \u001b[38;5;241m=\u001b[39m \u001b[38;5;241m4\u001b[39m\n",
      "\u001b[0;31mTypeError\u001b[0m: 'tuple' object does not support item assignment"
     ]
    }
   ],
   "source": [
    "# Le tuple est non modifiable\n",
    "# On obtient une erreur si on essaie\n",
    "arr[0] = 4"
   ]
  },
  {
   "cell_type": "code",
   "execution_count": 143,
   "id": "f2f05006-6db2-4807-b284-5bfca22c1c38",
   "metadata": {},
   "outputs": [
    {
     "name": "stdout",
     "output_type": "stream",
     "text": [
      "mot1 :  bonjour\n",
      "mot2 :  test\n"
     ]
    }
   ],
   "source": [
    "# Destructuration\n",
    "# On peut donner des noms à chacune des valeurs du tuple\n",
    "mot1, mot2,  = ('bonjour', 'test')\n",
    "print('mot1 : ', mot1)\n",
    "print('mot2 : ', mot2)\n"
   ]
  },
  {
   "cell_type": "code",
   "execution_count": 74,
   "id": "7b31cd71-4c58-4cb9-a987-d8c89f132382",
   "metadata": {},
   "outputs": [
    {
     "name": "stdout",
     "output_type": "stream",
     "text": [
      "a 0\n",
      "b 1\n",
      "a 1\n",
      "b 0\n"
     ]
    }
   ],
   "source": [
    "# Cas d'utilisation pratique : Inversion de variables\n",
    "a = 0\n",
    "b = 1\n",
    "\n",
    "print('a', a)\n",
    "print('b', b)\n",
    "\n",
    "a, b = (b, a)\n",
    "\n",
    "print('a', a)\n",
    "print('b', b)"
   ]
  },
  {
   "cell_type": "markdown",
   "id": "bd1b784d-7504-4a70-b3f6-b7f9885b4655",
   "metadata": {},
   "source": [
    "## Set"
   ]
  },
  {
   "cell_type": "code",
   "execution_count": 144,
   "id": "bef6f02f-0a33-446d-bc31-0e41acaf2c5c",
   "metadata": {},
   "outputs": [
    {
     "data": {
      "text/plain": [
       "['a', 'a', 'z', 'z', 'e', 'c', 'e', 'e', 'e', 'd', 'r', 'r', 'r', 't']"
      ]
     },
     "execution_count": 144,
     "metadata": {},
     "output_type": "execute_result"
    }
   ],
   "source": [
    "# Structure de données qui n'accepte pas les doublons\n",
    "arr = list('aazzeceeedrrrt')\n",
    "arr"
   ]
  },
  {
   "cell_type": "code",
   "execution_count": 145,
   "id": "17629b34-a2cd-4d57-8b93-ae8d843eaf90",
   "metadata": {},
   "outputs": [
    {
     "data": {
      "text/plain": [
       "{'a', 'c', 'd', 'e', 'r', 't', 'z'}"
      ]
     },
     "execution_count": 145,
     "metadata": {},
     "output_type": "execute_result"
    }
   ],
   "source": [
    "# Observez bien qu'il n'y plus de doublons\n",
    "set(arr)"
   ]
  },
  {
   "cell_type": "code",
   "execution_count": 77,
   "id": "f2b79ad6-0ea2-4b0a-8d27-0d32659464c9",
   "metadata": {},
   "outputs": [
    {
     "data": {
      "text/plain": [
       "True"
      ]
     },
     "execution_count": 77,
     "metadata": {},
     "output_type": "execute_result"
    }
   ],
   "source": [
    "# On peut interroger le set et lui demander si un élément est présent à l'intérieur \n",
    "'a' in set(arr)"
   ]
  },
  {
   "cell_type": "code",
   "execution_count": 78,
   "id": "13515882-3764-4948-a36b-17b223fd9cf2",
   "metadata": {},
   "outputs": [
    {
     "data": {
      "text/plain": [
       "False"
      ]
     },
     "execution_count": 78,
     "metadata": {},
     "output_type": "execute_result"
    }
   ],
   "source": [
    "# Idem\n",
    "'p' in set(arr)"
   ]
  },
  {
   "cell_type": "code",
   "execution_count": 154,
   "id": "4519d47b-b5aa-44a2-88f8-e707ec4079c2",
   "metadata": {
    "tags": []
   },
   "outputs": [
    {
     "name": "stdout",
     "output_type": "stream",
     "text": [
      "Lettre à rechercher  r\n",
      "Nombre d'apparitions de cette lettre dans la liste :  3\n",
      "-------------------------------------------------\n",
      "\n",
      "Lettre à rechercher  z\n",
      "Nombre d'apparitions de cette lettre dans la liste :  2\n",
      "-------------------------------------------------\n",
      "\n",
      "Lettre à rechercher  e\n",
      "Nombre d'apparitions de cette lettre dans la liste :  4\n",
      "-------------------------------------------------\n",
      "\n",
      "Lettre à rechercher  c\n",
      "Nombre d'apparitions de cette lettre dans la liste :  1\n",
      "-------------------------------------------------\n",
      "\n",
      "Lettre à rechercher  a\n",
      "Nombre d'apparitions de cette lettre dans la liste :  2\n",
      "-------------------------------------------------\n",
      "\n"
     ]
    }
   ],
   "source": [
    "# Cas d'utilisation pratique\n",
    "# On compte chacune des lettres\n",
    "\n",
    "# Liste avec les doublons \n",
    "arr = list('aazzeceeerrr')\n",
    "\n",
    "# Set -> sans les doublons\n",
    "arr_set = set(arr)\n",
    "\n",
    "# Pour chacune des lettres uniques\n",
    "for lettre_unique in arr_set:\n",
    "    # On affiche la lettre à rechercher\n",
    "    print('Lettre à rechercher ', lettre_unique)\n",
    "    \n",
    "    # On compte le nombre d'occurences de cette lettre\n",
    "    # dans la liste arr (celle sui contient les doublon)\n",
    "    print(\"Nombre d'apparitions de cette lettre dans la liste : \", arr.count(lettre_unique))\n",
    "    \n",
    "    print('-------------------------------------------------\\n')"
   ]
  },
  {
   "cell_type": "code",
   "execution_count": 157,
   "id": "bf97a871-87f3-4d16-8041-c57589697910",
   "metadata": {},
   "outputs": [
    {
     "name": "stdout",
     "output_type": "stream",
     "text": [
      "['\\ufeffELEM_POINT_ID', 'CODE', 'NOM', 'GENRE', 'GENRE_DESC', 'CATEGORIE', 'CATEGORIE_DESC', 'SOUS_CATEGORIE', 'SOUS_CATEGORIE_DESC', 'CODE_PARENT', 'CODE_PARENT_DESC', 'ADR_SECTEUR', 'BIEN_REFERENCE', 'GENRE_BOTA', 'ESPECE', 'VARIETE', 'STADEDEDEVELOPPEMENT', 'EQUIPE', 'REMARQUES', 'ANNEEDEPLANTATION', 'RAISONDEPLANTATION', 'TRAITEMENTCHENILLES', 'COURRIER', 'IDENTIFIANTPLU', 'TYPEIMPLANTATIONPLU', 'INTITULEPROTECTIONPLU', 'ANNEEABATTAGE', 'ESSOUCHEMENT', 'DIAMETREARBRE', 'CAUSEABATTAGE', 'COLLECTIVITE', 'GeoJSON']\n"
     ]
    }
   ],
   "source": [
    "# Exemple avec le jeu de données des arbres \n",
    "\n",
    "# Le module csv est spécialisé dans l'analyse .... des fichiers .csv !\n",
    "import csv \n",
    "\n",
    "# On charge le fichier dans la variable data \n",
    "# La syntaxe est compliquée mais tout est expliqué dans la documentation officielle \n",
    "with open('./trees.csv') as f:\n",
    "    lines = csv.reader(f)\n",
    "    data = list(lines)\n",
    "    \n",
    "# On affiche le header (nom des colonnes)\n",
    "print(data[0])"
   ]
  },
  {
   "cell_type": "code",
   "execution_count": 165,
   "id": "5a50d578-f1e5-4c59-a072-69922663215c",
   "metadata": {
    "tags": []
   },
   "outputs": [
    {
     "data": {
      "text/plain": [
       "['GENRE_BOTA', '', '', '', '']"
      ]
     },
     "execution_count": 165,
     "metadata": {},
     "output_type": "execute_result"
    }
   ],
   "source": [
    "# On va créer une liste ne contenant que le genre botanique des arbres \n",
    "# (colonne numéro 13)\n",
    "genres = []\n",
    "for row in data:\n",
    "    genres.append(row[13])\n",
    "\n",
    "# On affiche les 5 premiers éléments de cette liste\n",
    "# Beaucoup de données manquantes\n",
    "genres[:5]"
   ]
  },
  {
   "cell_type": "code",
   "execution_count": 168,
   "id": "79927c3c-dd20-4b27-b768-576a40f9d2e4",
   "metadata": {
    "collapsed": true,
    "jupyter": {
     "outputs_hidden": true
    },
    "tags": []
   },
   "outputs": [
    {
     "data": {
      "text/plain": [
       "{'',\n",
       " 'Abies',\n",
       " 'Acer',\n",
       " 'Aesculus',\n",
       " 'Ailanthus',\n",
       " 'Albizia',\n",
       " 'Alnus',\n",
       " 'Amélanchier',\n",
       " 'Araucaria',\n",
       " 'Betula',\n",
       " 'Broussonetia',\n",
       " 'Buxus',\n",
       " 'Calocedrus',\n",
       " 'Carpinus',\n",
       " 'Castanea',\n",
       " 'Catalpa',\n",
       " 'Cedrela',\n",
       " 'Cedrus',\n",
       " 'Celtis',\n",
       " 'Cephalotaxus',\n",
       " 'Cercidiphyllum',\n",
       " 'Cercis',\n",
       " 'Chamaecyparis',\n",
       " 'Chimonanthus',\n",
       " 'Chionanthus',\n",
       " 'Chitalpa',\n",
       " 'Cladastris',\n",
       " 'Clerodendron',\n",
       " 'Cornus',\n",
       " 'Corylus',\n",
       " 'Cotinus',\n",
       " 'Crataegus',\n",
       " 'Cryptomeria',\n",
       " 'Cupressocyparis',\n",
       " 'Cupressus',\n",
       " 'Cydonia',\n",
       " 'Davidia',\n",
       " 'Diospyros',\n",
       " 'Eleagnus',\n",
       " 'Eriobotrya ',\n",
       " 'Eucalyptus',\n",
       " 'Fagus',\n",
       " 'Ficus',\n",
       " 'Fontanesia',\n",
       " 'Fraxinus',\n",
       " 'GENRE_BOTA',\n",
       " 'Ginkgo',\n",
       " 'Gleditsia',\n",
       " 'Gymnocladus',\n",
       " 'Halesia',\n",
       " 'Hovenia',\n",
       " 'Ilex',\n",
       " 'Juglans',\n",
       " 'Juniperus',\n",
       " 'Koelreuteria',\n",
       " 'Laburnum',\n",
       " 'Lagerstroemia',\n",
       " 'Larix',\n",
       " 'Libocedrus',\n",
       " 'Ligustrum',\n",
       " 'Liquidambar',\n",
       " 'Liriodendron',\n",
       " 'Lonicera',\n",
       " 'Maclura',\n",
       " 'Magnolia',\n",
       " 'Malus',\n",
       " 'Mespilus',\n",
       " 'Metasequoia',\n",
       " 'Morus',\n",
       " 'Nyssa',\n",
       " 'Olea',\n",
       " 'Ostrya',\n",
       " 'Parrotia',\n",
       " 'Paulownia',\n",
       " 'Phellodendron',\n",
       " 'Phillyrea',\n",
       " 'Photinia',\n",
       " 'Picea',\n",
       " 'Pinus',\n",
       " 'Pistacia',\n",
       " 'Platanus',\n",
       " 'Poncinos',\n",
       " 'Populus',\n",
       " 'Prunus',\n",
       " 'Ptelea',\n",
       " 'Pterocarya',\n",
       " 'Pteroceltis',\n",
       " 'Pterostyrax',\n",
       " 'Punica',\n",
       " 'Pyrus',\n",
       " 'Quercus',\n",
       " 'Rhamnus',\n",
       " 'Rhus',\n",
       " 'Robinia',\n",
       " 'Salix',\n",
       " 'Sambucus',\n",
       " 'Sciadopitys',\n",
       " 'Sequoia',\n",
       " 'Sequoiadendron',\n",
       " 'Sophora',\n",
       " 'Sorbopyrus',\n",
       " 'Sorbus',\n",
       " 'Staphylea',\n",
       " 'Sterculia',\n",
       " 'Styrax',\n",
       " 'Syringa',\n",
       " 'Taxodium',\n",
       " 'Taxus',\n",
       " 'Tetradium',\n",
       " 'Thuja',\n",
       " 'Tilia',\n",
       " 'Trachycarpus',\n",
       " 'Ulmus',\n",
       " 'Zelkova'}"
      ]
     },
     "execution_count": 168,
     "metadata": {},
     "output_type": "execute_result"
    }
   ],
   "source": [
    "# Et maintenant on va regarder quels sont les éléments uniques de cette liste\n",
    "genres_uniques = set(genres)\n",
    "\n",
    "# Il y en a beaucoup \n",
    "genres_uniques"
   ]
  },
  {
   "cell_type": "code",
   "execution_count": 169,
   "id": "b9a0c916-9623-4d21-b7aa-53a6fffc91c0",
   "metadata": {},
   "outputs": [
    {
     "ename": "TypeError",
     "evalue": "'set' object is not subscriptable",
     "output_type": "error",
     "traceback": [
      "\u001b[0;31m---------------------------------------------------------------------------\u001b[0m",
      "\u001b[0;31mTypeError\u001b[0m                                 Traceback (most recent call last)",
      "Cell \u001b[0;32mIn[169], line 4\u001b[0m\n\u001b[1;32m      1\u001b[0m \u001b[38;5;66;03m# Les éléments dans un set ne sont pas indexés par des entiers\u001b[39;00m\n\u001b[1;32m      2\u001b[0m \u001b[38;5;66;03m# Les sets ne sont pas ordonnés\u001b[39;00m\n\u001b[1;32m      3\u001b[0m \u001b[38;5;66;03m# Donc je ne peux pas afficher les 3 premiers éléments (erreur!)\u001b[39;00m\n\u001b[0;32m----> 4\u001b[0m \u001b[43mgenres_uniques\u001b[49m\u001b[43m[\u001b[49m\u001b[43m:\u001b[49m\u001b[38;5;241;43m3\u001b[39;49m\u001b[43m]\u001b[49m\n",
      "\u001b[0;31mTypeError\u001b[0m: 'set' object is not subscriptable"
     ]
    }
   ],
   "source": [
    "# Les éléments dans un set ne sont pas indexés par des entiers\n",
    "# Les sets ne sont pas ordonnés\n",
    "# Donc je ne peux pas afficher les 3 premiers éléments (erreur!)\n",
    "genres_uniques[:3]"
   ]
  },
  {
   "cell_type": "code",
   "execution_count": 170,
   "id": "a135a1cb-a89b-4153-89ab-03cdfe2e3570",
   "metadata": {},
   "outputs": [
    {
     "data": {
      "text/plain": [
       "['', 'Fontanesia', 'Libocedrus', 'Cercidiphyllum', 'Lagerstroemia']"
      ]
     },
     "execution_count": 170,
     "metadata": {},
     "output_type": "execute_result"
    }
   ],
   "source": [
    "# Je peux quand même bidouiller en re transformant le set en liste\n",
    "# Puis en demandant les 5 premiers élements \n",
    "liste_genres_uniques = list(genres_uniques)\n",
    "liste_genres_uniques[:5]"
   ]
  },
  {
   "cell_type": "markdown",
   "id": "56632d7e-87cc-4097-95af-b49c6e03a162",
   "metadata": {},
   "source": [
    "## Dict"
   ]
  },
  {
   "cell_type": "markdown",
   "id": "414c7e11-4351-4c3f-8eaa-5638af421b30",
   "metadata": {},
   "source": [
    "On va refaire un peu la même chose que précédemment en utilisant cette fois un dictionnaire"
   ]
  },
  {
   "cell_type": "code",
   "execution_count": 108,
   "id": "8cadaa94-4eae-4b32-9e7e-e98a29bffe1e",
   "metadata": {},
   "outputs": [],
   "source": [
    "# Chargement des données\n",
    "import csv \n",
    "with open('./trees.csv') as f:\n",
    "    lines = csv.reader(f)\n",
    "    data = list(lines)\n",
    "\n",
    "# Extraction des genres botaniques\n",
    "genres = []\n",
    "for row in data:\n",
    "    genres.append(row[13])\n",
    "\n",
    "# Calcul des genres botaniques uniques. \n",
    "genres_uniques = set(genres)"
   ]
  },
  {
   "cell_type": "code",
   "execution_count": 171,
   "id": "833e920d-4e59-4f17-9fbc-e1cae3266a69",
   "metadata": {
    "tags": []
   },
   "outputs": [
    {
     "data": {
      "text/plain": [
       "{'': 515,\n",
       " 'Fontanesia': 4,\n",
       " 'Libocedrus': 47,\n",
       " 'Cercidiphyllum': 7,\n",
       " 'Lagerstroemia': 50,\n",
       " 'Pterocarya': 52,\n",
       " 'Pteroceltis': 12,\n",
       " 'Lonicera': 6,\n",
       " 'Syringa': 41,\n",
       " 'Paulownia': 101,\n",
       " 'Ptelea': 3,\n",
       " 'Trachycarpus': 22,\n",
       " 'Cedrela': 46,\n",
       " 'Pistacia': 7,\n",
       " 'Ginkgo': 111,\n",
       " 'Maclura': 5,\n",
       " 'Aesculus': 459,\n",
       " 'Magnolia': 409,\n",
       " 'Ficus': 19,\n",
       " 'Abies': 28,\n",
       " 'Diospyros': 17,\n",
       " 'Cotinus': 11,\n",
       " 'Larix': 5,\n",
       " 'Tilia': 1770,\n",
       " 'Alnus': 826,\n",
       " 'Photinia': 10,\n",
       " 'Broussonetia': 23,\n",
       " 'Cornus': 23,\n",
       " 'Fraxinus': 1506,\n",
       " 'Amélanchier': 96,\n",
       " 'Staphylea': 1,\n",
       " 'Cupressus': 203,\n",
       " 'Sequoia': 1,\n",
       " 'Gleditsia': 352,\n",
       " 'Zelkova': 233,\n",
       " 'Clerodendron': 5,\n",
       " 'Styrax': 3,\n",
       " 'Pyrus': 501,\n",
       " 'Mespilus': 7,\n",
       " 'Liquidambar': 809,\n",
       " 'Pterostyrax': 6,\n",
       " 'Ulmus': 210,\n",
       " 'Cryptomeria': 2,\n",
       " 'Olea': 5,\n",
       " 'Taxodium': 9,\n",
       " 'Rhamnus': 1,\n",
       " 'Cladastris': 45,\n",
       " 'Robinia': 287,\n",
       " 'GENRE_BOTA': 1,\n",
       " 'Ostrya': 44,\n",
       " 'Hovenia': 2,\n",
       " 'Fagus': 267,\n",
       " 'Ilex': 24,\n",
       " 'Corylus': 174,\n",
       " 'Calocedrus': 4,\n",
       " 'Cedrus': 407,\n",
       " 'Prunus': 996,\n",
       " 'Cupressocyparis': 100,\n",
       " 'Tetradium': 88,\n",
       " 'Sambucus': 33,\n",
       " 'Cephalotaxus': 3,\n",
       " 'Sorbus': 88,\n",
       " 'Chamaecyparis': 373,\n",
       " 'Phellodendron': 13,\n",
       " 'Juglans': 66,\n",
       " 'Eleagnus': 19,\n",
       " 'Chionanthus': 33,\n",
       " 'Eriobotrya ': 3,\n",
       " 'Populus': 966,\n",
       " 'Chitalpa': 4,\n",
       " 'Taxus': 202,\n",
       " 'Salix': 143,\n",
       " 'Betula': 1247,\n",
       " 'Parrotia': 54,\n",
       " 'Picea': 252,\n",
       " 'Sophora': 426,\n",
       " 'Metasequoia': 81,\n",
       " 'Celtis': 193,\n",
       " 'Laburnum': 13,\n",
       " 'Phillyrea': 3,\n",
       " 'Ailanthus': 80,\n",
       " 'Rhus': 7,\n",
       " 'Cydonia': 11,\n",
       " 'Ligustrum': 5,\n",
       " 'Koelreuteria': 271,\n",
       " 'Albizia': 67,\n",
       " 'Sciadopitys': 1,\n",
       " 'Morus': 100,\n",
       " 'Cercis': 351,\n",
       " 'Sequoiadendron': 14,\n",
       " 'Gymnocladus': 9,\n",
       " 'Chimonanthus': 3,\n",
       " 'Catalpa': 89,\n",
       " 'Buxus': 17,\n",
       " 'Sterculia': 1,\n",
       " 'Quercus': 677,\n",
       " 'Poncinos': 1,\n",
       " 'Carpinus': 1296,\n",
       " 'Nyssa': 1,\n",
       " 'Juniperus': 4,\n",
       " 'Crataegus': 108,\n",
       " 'Halesia': 9,\n",
       " 'Davidia': 7,\n",
       " 'Liriodendron': 507,\n",
       " 'Castanea': 1,\n",
       " 'Malus': 262,\n",
       " 'Thuja': 48,\n",
       " 'Sorbopyrus': 1,\n",
       " 'Acer': 5276,\n",
       " 'Platanus': 4663,\n",
       " 'Punica': 3,\n",
       " 'Pinus': 2118,\n",
       " 'Eucalyptus': 1,\n",
       " 'Araucaria': 2}"
      ]
     },
     "execution_count": 171,
     "metadata": {},
     "output_type": "execute_result"
    }
   ],
   "source": [
    "# d : dictionnaire qui va recenser les genres uniques et le nombre de leur representants\n",
    "# genres : liste qui contient TOUS les genres de tous les arbres\n",
    "# genres_uniques : le set des genres (elements uniques de genres)\n",
    "# genre (dans la boucle) : un genre parmi les genres uniques\n",
    "\n",
    "d = dict()\n",
    "for genre in genres_uniques:\n",
    "    d[genre] = genres.count(genre)\n",
    "\n",
    "d"
   ]
  }
 ],
 "metadata": {
  "kernelspec": {
   "display_name": "Python 3 (ipykernel)",
   "language": "python",
   "name": "python3"
  },
  "language_info": {
   "codemirror_mode": {
    "name": "ipython",
    "version": 3
   },
   "file_extension": ".py",
   "mimetype": "text/x-python",
   "name": "python",
   "nbconvert_exporter": "python",
   "pygments_lexer": "ipython3",
   "version": "3.11.7"
  },
  "toc-autonumbering": true
 },
 "nbformat": 4,
 "nbformat_minor": 5
}
