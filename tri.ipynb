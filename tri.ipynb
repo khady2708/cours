{
 "cells": [
  {
   "cell_type": "markdown",
   "id": "5fb75dc2-795c-40cc-8173-5ba5133d84db",
   "metadata": {
    "jp-MarkdownHeadingCollapsed": true
   },
   "source": [
    "## Classement de strings"
   ]
  },
  {
   "cell_type": "code",
   "execution_count": 2,
   "id": "9c49fdff-a95a-412e-928a-8dd8c561e1f3",
   "metadata": {},
   "outputs": [],
   "source": [
    "# Liste de prenoms\n",
    "names = [\n",
    "    \"Alice\", \n",
    "    \"Bob\", \n",
    "    \"Charlie\", \n",
    "    \"Diana\", \n",
    "    \"Ethan\", \n",
    "    \"Fiona\", \n",
    "    \"George\", \n",
    "    \"Hannah\", \n",
    "    \"Ian\", \n",
    "    \"Jasmine\"\n",
    "]"
   ]
  },
  {
   "cell_type": "code",
   "execution_count": 19,
   "id": "5be5b898-c17c-4572-ac76-38e7352d178d",
   "metadata": {
    "scrolled": true
   },
   "outputs": [
    {
     "data": {
      "text/plain": [
       "['Alice',\n",
       " 'Bob',\n",
       " 'Charlie',\n",
       " 'Diana',\n",
       " 'Ethan',\n",
       " 'Fiona',\n",
       " 'George',\n",
       " 'Hannah',\n",
       " 'Ian',\n",
       " 'Jasmine']"
      ]
     },
     "execution_count": 19,
     "metadata": {},
     "output_type": "execute_result"
    }
   ],
   "source": [
    "# Critère de classement : premier caractère\n",
    "def classement(name):\n",
    "    return name[0]\n",
    "\n",
    "liste_triee = sorted(names, key=classement)\n",
    "liste_triee"
   ]
  },
  {
   "cell_type": "code",
   "execution_count": 18,
   "id": "bfcf9429-6e7f-44e2-a611-a3fcb8e9f40f",
   "metadata": {},
   "outputs": [
    {
     "data": {
      "text/plain": [
       "['Diana',\n",
       " 'Fiona',\n",
       " 'Bob',\n",
       " 'Alice',\n",
       " 'Charlie',\n",
       " 'George',\n",
       " 'Jasmine',\n",
       " 'Hannah',\n",
       " 'Ethan',\n",
       " 'Ian']"
      ]
     },
     "execution_count": 18,
     "metadata": {},
     "output_type": "execute_result"
    }
   ],
   "source": [
    "# Critère de classement : dernier caractère\n",
    "def classement(name):\n",
    "    return name[-1]\n",
    "\n",
    "liste_triee = sorted(names, key=classement)\n",
    "liste_triee"
   ]
  },
  {
   "cell_type": "code",
   "execution_count": 20,
   "id": "9c04c3c0-9f78-4f1f-8a4e-2ba79c355c5d",
   "metadata": {},
   "outputs": [
    {
     "data": {
      "text/plain": [
       "['Bob',\n",
       " 'Ian',\n",
       " 'Alice',\n",
       " 'Diana',\n",
       " 'Ethan',\n",
       " 'Fiona',\n",
       " 'George',\n",
       " 'Hannah',\n",
       " 'Charlie',\n",
       " 'Jasmine']"
      ]
     },
     "execution_count": 20,
     "metadata": {},
     "output_type": "execute_result"
    }
   ],
   "source": [
    "# Critère de classement : longueur du string\n",
    "def classement(name):\n",
    "    return len(name)\n",
    "\n",
    "liste_triee = sorted(names, key=classement)\n",
    "liste_triee"
   ]
  },
  {
   "cell_type": "markdown",
   "id": "1aad5175-d249-4eb3-8671-ffc947858f36",
   "metadata": {},
   "source": [
    "## Classement de tuples"
   ]
  },
  {
   "cell_type": "code",
   "execution_count": 22,
   "id": "5a18f52a-0772-4430-bade-9e2a24a135ac",
   "metadata": {},
   "outputs": [
    {
     "data": {
      "text/plain": [
       "[('Charlie', 22),\n",
       " ('Hannah', 25),\n",
       " ('Fiona', 26),\n",
       " ('Jaasmine', 27),\n",
       " ('Alice', 28),\n",
       " ('Diana', 29),\n",
       " ('Ethan', 31),\n",
       " ('Bob', 34),\n",
       " ('Ian', 38),\n",
       " ('George', 40)]"
      ]
     },
     "execution_count": 22,
     "metadata": {},
     "output_type": "execute_result"
    }
   ],
   "source": [
    "# Trier les people par age\n",
    "people = [\n",
    "    (\"Alice\", 28),\n",
    "    (\"Bob\", 34),\n",
    "    (\"Charlie\", 22),\n",
    "    (\"Diana\", 29),\n",
    "    (\"Ethan\", 31),\n",
    "    (\"Fiona\", 26),\n",
    "    (\"George\", 40),\n",
    "    (\"Hannah\", 25),\n",
    "    (\"Ian\", 38),\n",
    "    (\"Jaasmine\", 27)\n",
    "]\n",
    "\n",
    "def classement(personne):\n",
    "    return personne[1]\n",
    "\n",
    "personnes_triees = sorted(people, key=classement)\n",
    "personnes_triees"
   ]
  },
  {
   "cell_type": "code",
   "execution_count": 23,
   "id": "dbc651c6-27fb-4c2a-9fa9-a8cc011df0c5",
   "metadata": {},
   "outputs": [
    {
     "data": {
      "text/plain": [
       "[('George', 40),\n",
       " ('Ian', 38),\n",
       " ('Bob', 34),\n",
       " ('Ethan', 31),\n",
       " ('Diana', 29),\n",
       " ('Alice', 28),\n",
       " ('Jaasmine', 27),\n",
       " ('Fiona', 26),\n",
       " ('Hannah', 25),\n",
       " ('Charlie', 22)]"
      ]
     },
     "execution_count": 23,
     "metadata": {},
     "output_type": "execute_result"
    }
   ],
   "source": [
    "# Trier les people par age (décroissant)\n",
    "people = [\n",
    "    (\"Alice\", 28),\n",
    "    (\"Bob\", 34),\n",
    "    (\"Charlie\", 22),\n",
    "    (\"Diana\", 29),\n",
    "    (\"Ethan\", 31),\n",
    "    (\"Fiona\", 26),\n",
    "    (\"George\", 40),\n",
    "    (\"Hannah\", 25),\n",
    "    (\"Ian\", 38),\n",
    "    (\"Jaasmine\", 27)\n",
    "]\n",
    "\n",
    "def classement(personne):\n",
    "    return personne[1]\n",
    "\n",
    "personnes_triees = sorted(people, key=classement, reverse=True)\n",
    "personnes_triees"
   ]
  },
  {
   "cell_type": "code",
   "execution_count": 25,
   "id": "561c5959-2341-4e35-9bcd-0f0c3153a9cf",
   "metadata": {},
   "outputs": [
    {
     "data": {
      "text/plain": [
       "('George', 40)"
      ]
     },
     "execution_count": 25,
     "metadata": {},
     "output_type": "execute_result"
    }
   ],
   "source": [
    "# On peut faire pareil que le tri pour aller chercher le \"max des tuples\" \n",
    "# Il faut choisir également un critère de classement pour définir qui est \n",
    "# \"le plus grand\"\n",
    "\n",
    "# Dans ce cas on dit que le critère de \n",
    "# décision est l'age de la personne\n",
    "people = [\n",
    "    (\"Alice\", 28),\n",
    "    (\"Bob\", 34),\n",
    "    (\"Charlie\", 22),\n",
    "    (\"Diana\", 29),\n",
    "    (\"Ethan\", 31),\n",
    "    (\"Fiona\", 26),\n",
    "    (\"George\", 40),\n",
    "    (\"Hannah\", 25),\n",
    "    (\"Ian\", 38),\n",
    "    (\"Jaasmine\", 27)\n",
    "]\n",
    "\n",
    "def classement(personne):\n",
    "    return personne[1]\n",
    "\n",
    "personne_max = max(people, key=classement)\n",
    "personne_max"
   ]
  },
  {
   "cell_type": "code",
   "execution_count": 26,
   "id": "d92cf118-4f2b-4f60-9760-d1ce1615485e",
   "metadata": {},
   "outputs": [
    {
     "data": {
      "text/plain": [
       "('Bob', 34)"
      ]
     },
     "execution_count": 26,
     "metadata": {},
     "output_type": "execute_result"
    }
   ],
   "source": [
    "# On peut faire pareil que le tri pour aller chercher le \"max des tuples\" \n",
    "# Il faut choisir également un critère de classement pour définir qui est \n",
    "# \"le plus grand\"\n",
    "\n",
    "# Dans ce cas on dit que le critère de \n",
    "# décision est la longueur du prenom de la personne\n",
    "people = [\n",
    "    (\"Alice\", 28),\n",
    "    (\"Bob\", 34),\n",
    "    (\"Charlie\", 22),\n",
    "    (\"Diana\", 29),\n",
    "    (\"Ethan\", 31),\n",
    "    (\"Fiona\", 26),\n",
    "    (\"George\", 40),\n",
    "    (\"Hannah\", 25),\n",
    "    (\"Ian\", 38),\n",
    "    (\"Jaasmine\", 27)\n",
    "]\n",
    "\n",
    "def classement(personne):\n",
    "    return len(personne[0])\n",
    "\n",
    "# Pour changer un peu on prend le \"min\" cette fois\n",
    "personne_min = min(people, key=classement)\n",
    "personne_min"
   ]
  },
  {
   "cell_type": "markdown",
   "id": "57ed6ffe-0fa8-4c4a-b340-36b3dc25beb2",
   "metadata": {},
   "source": [
    "### Fonctions lambda\n",
    "\n",
    "- C'est un peu tôt pour parler de ça, mais....  \n",
    "- Comme vous le trouvez régulièrement sur internet, chatGPT, etc..."
   ]
  },
  {
   "cell_type": "code",
   "execution_count": 13,
   "id": "0b450bad-288e-4c8f-9601-8624ab260fb5",
   "metadata": {},
   "outputs": [
    {
     "name": "stdout",
     "output_type": "stream",
     "text": [
      "Bonjour florian\n"
     ]
    }
   ],
   "source": [
    "# Définition \"normale\" d'une fonction \n",
    "def say_hello(name):\n",
    "    return 'Bonjour ' + name)\n",
    "\n",
    "say_hello(\"florian\")"
   ]
  },
  {
   "cell_type": "code",
   "execution_count": null,
   "id": "1fdfbb20-5949-4e75-834d-faba57b0148e",
   "metadata": {},
   "outputs": [],
   "source": [
    "# Il y a équivalent entre les deux écritures\n",
    "# On aboutit au même résultat\n",
    "\n",
    "# Définition de la fonction en lambda\n",
    "say_hello = lambda name: \"Bonjour \" + name\n",
    "\n",
    "# Appel de la fonction\n",
    "say_hello(\"florian\")"
   ]
  },
  {
   "cell_type": "code",
   "execution_count": 29,
   "id": "273b07fa-5cf2-43fe-a5bd-3088716960e5",
   "metadata": {},
   "outputs": [
    {
     "data": {
      "text/plain": [
       "[('Charlie', 22),\n",
       " ('Hannah', 25),\n",
       " ('Fiona', 26),\n",
       " ('Jaasmine', 27),\n",
       " ('Alice', 28),\n",
       " ('Diana', 29),\n",
       " ('Ethan', 31),\n",
       " ('Bob', 34),\n",
       " ('Ian', 38),\n",
       " ('George', 40)]"
      ]
     },
     "execution_count": 29,
     "metadata": {},
     "output_type": "execute_result"
    }
   ],
   "source": [
    "# Application des lambdas pour le tri de tuples\n",
    "people = [\n",
    "    (\"Alice\", 28),\n",
    "    (\"Bob\", 34),\n",
    "    (\"Charlie\", 22),\n",
    "    (\"Diana\", 29),\n",
    "    (\"Ethan\", 31),\n",
    "    (\"Fiona\", 26),\n",
    "    (\"George\", 40),\n",
    "    (\"Hannah\", 25),\n",
    "    (\"Ian\", 38),\n",
    "    (\"Jaasmine\", 27)\n",
    "]\n",
    "\n",
    "# On peut écrire comme ça\n",
    "classement = lambda personne: personne[1]\n",
    "people_tries = sorted(people, key=classement)\n",
    "\n",
    "# Ou comme ça. \n",
    "# Ici on ne s'embête même pas à donner un nom à la fonction lambda\n",
    "# Elle est \"anonyme\"\n",
    "# C'est la notation la plus courante\n",
    "people_tries = sorted(people, key=lambda personne: personne[1])\n",
    "\n",
    "people_tries"
   ]
  }
 ],
 "metadata": {
  "kernelspec": {
   "display_name": "Python 3 (ipykernel)",
   "language": "python",
   "name": "python3"
  },
  "language_info": {
   "codemirror_mode": {
    "name": "ipython",
    "version": 3
   },
   "file_extension": ".py",
   "mimetype": "text/x-python",
   "name": "python",
   "nbconvert_exporter": "python",
   "pygments_lexer": "ipython3",
   "version": "3.11.7"
  }
 },
 "nbformat": 4,
 "nbformat_minor": 5
}
